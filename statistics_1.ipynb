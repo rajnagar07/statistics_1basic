{
  "nbformat": 4,
  "nbformat_minor": 0,
  "metadata": {
    "colab": {
      "provenance": []
    },
    "kernelspec": {
      "name": "python3",
      "display_name": "Python 3"
    },
    "language_info": {
      "name": "python"
    }
  },
  "cells": [
    {
      "cell_type": "code",
      "execution_count": null,
      "metadata": {
        "id": "UrNqN1Ya7uo0"
      },
      "outputs": [],
      "source": [
        "Question 1: What is the difference between descriptive statistics and inferential statistics?\n",
        "Explain with examples.\n",
        "Ans1.\n",
        "descriptive statistics Inferential statistics\n",
        "Descriptive statistics are methods used to\n",
        "summarize, organize, and describe the\n",
        "important features of a dataset.\n",
        "Ex: all the matches scores of any player of\n",
        "Entire career and calculating the average\n",
        "score\n",
        "Inferential statistics involve techniques\n",
        "that allow us to make conclusions,\n",
        "predictions, or generalizations about a\n",
        "population based on a sample.\n",
        "Ex: collecting the weight of the whole India\n",
        "population and finding the average it’s\n",
        "May be very difficult so taking the sample\n",
        "Data from every state and finding the avg.\n",
        "Of that sample data.\n",
        "\n",
        "Question 2: What is sampling in statistics? Explain the differences between random and\n",
        "stratified sampling.\n",
        "Ans 2. the process of selecting a subset of individuals or items from a larger population to\n",
        "collect data and make inferences about the entire population.\n",
        "Random sampling Stratified sampling\n",
        "Every individual in the population has an\n",
        "equal chance of being selected.\n",
        "A possibility of members of not being part\n",
        "Of sample from a certain group.\n",
        "The population is divided into subgroups\n",
        "based on some characteristic, and then\n",
        "random samples are taken from each\n",
        "subgroup in proportion to their size.\n",
        "\n",
        "Question 3: Define mean, median, and mode. Explain why these measures of central\n",
        "tendency are important.\n",
        "Ans3. Mean: The mean is the sum of all data values divided by the number of values.\n",
        " Median: The median is the middle value when the data is arranged in ascending (or\n",
        "descending) order.\n",
        "If the number of observations is odd → the middle one.\n",
        "If the number of observations is even → the average of the two middle values.\n",
        "Mode: The mode is the value that occurs most frequently in the dataset.\n",
        "Central tendency: Central tendency is about finding a single value that represents\n",
        "the center or typical value of a dataset.\n",
        "Data often has many numbers, and we need a simple summary a \"representative\n",
        "value\"\n",
        "\n",
        "Question 4: Explain skewness and kurtosis. What does a positive skew imply about\n",
        "the data?\n",
        "Ans 4. Skewness is a statistical measure of a distribution's asymmetry, indicating\n",
        "whether the data is pulled to one side or the other.\n",
        "There are three types of skewness:\n",
        "1.No skewness (No inclination/symmetric)\n",
        "2. Positive skewed (tail is on right side/right skewed)\n",
        "Mean > =Median >= Mode\n",
        "3. Negative skewed (tail is on left side/left skewed)\n",
        "Mode>=median>=mean\n",
        "\n"
      ]
    },
    {
      "cell_type": "code",
      "source": [
        "# Question 5: Implement a Python program to compute the mean, median, and mode\n",
        "# of a given list of numbers.\n",
        "# numbers = [12, 15, 12, 18, 19, 12, 20, 22, 19, 19, 24, 24, 24, 26, 28]\n",
        "\n",
        "import numpy as np\n",
        "import statistics as scs\n",
        "numbers = [12, 15, 12, 18, 19, 12, 20, 22, 19, 19, 24, 24, 24, 26,28]\n",
        "print(f\"mean = {np.mean(numbers)}\")\n",
        "print(f\"median = {np.median(numbers)}\")\n",
        "print(f\"mode = {scs.mode(numbers)}\")"
      ],
      "metadata": {
        "colab": {
          "base_uri": "https://localhost:8080/"
        },
        "id": "bsXV3ANP8Jhx",
        "outputId": "eb3e745c-7fe5-4c6d-aec3-bdc68d01c0c1"
      },
      "execution_count": 1,
      "outputs": [
        {
          "output_type": "stream",
          "name": "stdout",
          "text": [
            "mean = 19.6\n",
            "median = 19.0\n",
            "mode = 12\n"
          ]
        }
      ]
    },
    {
      "cell_type": "code",
      "source": [
        "# Question 6: Compute the covariance and correlation coefficient between the following two\n",
        "# datasets provided as lists in Python:\n",
        "# list_x = [10, 20, 30, 40, 50]\n",
        "# list_y = [15, 25, 35, 45, 60]\n",
        "\n",
        "import numpy as np\n",
        "list_x = [10, 20, 30, 40, 50]\n",
        "list_y = [15, 25, 35, 45, 60]\n",
        "#covariance\n",
        "covariance = np.cov(list_x,list_y)\n",
        "print(covariance)\n",
        "# correlation coefficient\n",
        "correlation_coefficient = np.corrcoef(list_x,list_y)\n",
        "print(correlation_coefficient)"
      ],
      "metadata": {
        "colab": {
          "base_uri": "https://localhost:8080/"
        },
        "id": "OMSKZN6b8dpp",
        "outputId": "58d9f50f-1a04-4c34-990f-6aab747076bd"
      },
      "execution_count": 2,
      "outputs": [
        {
          "output_type": "stream",
          "name": "stdout",
          "text": [
            "[[250. 275.]\n",
            " [275. 305.]]\n",
            "[[1.         0.99589321]\n",
            " [0.99589321 1.        ]]\n"
          ]
        }
      ]
    },
    {
      "cell_type": "code",
      "source": [
        "# Question 7: Write a Python script to draw a boxplot for the following numeric list and\n",
        "# identify its outliers. Explain the result:\n",
        "# data = [12, 14, 14, 15, 18, 19, 19, 21, 22, 22, 23, 23, 24, 26, 29, 35]\n",
        "import seaborn as sns\n",
        "data = [12, 14, 14, 15, 18, 19, 19, 21, 22, 22, 23, 23, 24, 26, 29,35]\n",
        "sns.boxplot(data)\n",
        "print(\"\"\"According to this box value which is greater than appx 30 is a outlier also in the lower fence\n",
        "data which is apx 10 (assuming < 15) those also outlier in the negative manner also.\"\"\")\n"
      ],
      "metadata": {
        "colab": {
          "base_uri": "https://localhost:8080/",
          "height": 446
        },
        "id": "oAX98d7L8wzA",
        "outputId": "262220ca-9437-4a7e-da66-8e0fab6eb0a4"
      },
      "execution_count": 4,
      "outputs": [
        {
          "output_type": "stream",
          "name": "stdout",
          "text": [
            "According to this box value which is greater than appx 30 is a outlier also in the lower fence\n",
            "data which is apx 10 (assuming < 15) those also outlier in the negative manner also.\n"
          ]
        },
        {
          "output_type": "display_data",
          "data": {
            "text/plain": [
              "<Figure size 640x480 with 1 Axes>"
            ],
            "image/png": "[encoded data removed]"
          },
          "metadata": {}
        }
      ]
    },
    {
      "cell_type": "code",
      "source": [
        "# Question 8: You are working as a data analyst in an e-commerce company. The marketing\n",
        "# team wants to know if there is a relationship between advertising spend and daily sales.\n",
        "# ● Explain how you would use covariance and correlation to explore this relationship and\n",
        "# Write Python code to compute the correlation between the two lists:\n",
        "# advertising_spend = [200, 250, 300, 400, 500] daily_sales = [2200, 2450, 2750, 3200, 4000]\n",
        "import numpy as np\n",
        "\n",
        "print(\"\"\"1. Covariance\n",
        "• What it tells: Measures how two variables change together.\n",
        "• Limitation: Value depends on the units of variables, so it’s not standardized (hard to\n",
        "compare).\n",
        "2. correlation\n",
        "• What it tells: A standardized measure of linear relationship between two variables.\n",
        "o Always between -1 and +1.\n",
        "o +1 → perfect positive relationship (both increase together).\n",
        "o -1 → perfect negative relationship (one increases while other decreases).\n",
        "o 0 → no linear relationship.\n",
        "• Advantage: Easy to interpret compared to covariance\"\"\")\n",
        "\n",
        "advertising_spend = [200, 250, 300, 400, 500]\n",
        "daily_sales = [2200, 2450, 2750, 3200, 4000]\n",
        "np.corrcoef(advertising_spend,daily_sales)"
      ],
      "metadata": {
        "colab": {
          "base_uri": "https://localhost:8080/"
        },
        "id": "i7qHpCTW9FW4",
        "outputId": "bc58d85b-22d0-4f83-8035-006402bf243f"
      },
      "execution_count": 5,
      "outputs": [
        {
          "output_type": "stream",
          "name": "stdout",
          "text": [
            "1. Covariance\n",
            "• What it tells: Measures how two variables change together.\n",
            "• Limitation: Value depends on the units of variables, so it’s not standardized (hard to\n",
            "compare).\n",
            "2. correlation\n",
            "• What it tells: A standardized measure of linear relationship between two variables.\n",
            "o Always between -1 and +1.\n",
            "o +1 → perfect positive relationship (both increase together).\n",
            "o -1 → perfect negative relationship (one increases while other decreases).\n",
            "o 0 → no linear relationship.\n",
            "• Advantage: Easy to interpret compared to covariance\n"
          ]
        },
        {
          "output_type": "execute_result",
          "data": {
            "text/plain": [
              "array([[1.        , 0.99358241],\n",
              "       [0.99358241, 1.        ]])"
            ]
          },
          "metadata": {},
          "execution_count": 5
        }
      ]
    },
    {
      "cell_type": "code",
      "source": [
        "# Question 9: Your team has collected customer satisfaction survey data on a scale\n",
        "# of 1-10 and wants to understand its distribution before launching a new product.\n",
        "# ● Explain which summary statistics and visualizations (e.g. mean, standard\n",
        "# deviation, histogram) you’d use\n",
        "# ● Write Python code to create a histogram using Matplotlib for the survey data:\n",
        "# survey_scores = [7, 8, 5, 9, 6, 7, 8, 9, 10, 4, 7, 6, 9, 8, 7]\n",
        "import matplotlib.pyplot as plt\n",
        "import numpy as np\n",
        "print(\"\"\"Mean: Average satisfaction score → gives central tendency.\n",
        "Standard deviation: Measures how spread out the scores are.\n",
        "Low std → scores are close to mean.\n",
        "High std → scores vary a lot.\n",
        "Histogram:\n",
        "Shows frequency distribution of scores.\n",
        "Helps you see if scores are skewed, concentrated, or spread out.\"\"\")\n",
        "survey_scores = [7, 8, 5, 9, 6, 7, 8, 9, 10, 4, 7, 6, 9, 8, 7]\n",
        "mean = np.mean(survey_scores)\n",
        "std_dev = np.std(survey_scores)\n",
        "plt.hist(survey_scores, edgecolor='black')\n",
        "plt.title(\"Histogram of Customer Satisfaction Scores\")\n",
        "plt.xlabel(\"Survey Score\")\n",
        "plt.ylabel(\"Frequency\")\n",
        "plt.show()"
      ],
      "metadata": {
        "colab": {
          "base_uri": "https://localhost:8080/",
          "height": 593
        },
        "id": "DGHDarfi9aAR",
        "outputId": "fdbbdf9c-6f11-4d14-fa6b-2da30df2caf2"
      },
      "execution_count": 6,
      "outputs": [
        {
          "output_type": "stream",
          "name": "stdout",
          "text": [
            "Mean: Average satisfaction score → gives central tendency.\n",
            "Standard deviation: Measures how spread out the scores are.\n",
            "Low std → scores are close to mean.\n",
            "High std → scores vary a lot.\n",
            "Histogram:\n",
            "Shows frequency distribution of scores.\n",
            "Helps you see if scores are skewed, concentrated, or spread out.\n"
          ]
        },
        {
          "output_type": "display_data",
          "data": {
            "text/plain": [
              "<Figure size 640x480 with 1 Axes>"
            ],
            "image/png": "[encoded data removed]"
          },
          "metadata": {}
        }
      ]
    }
  ]
}